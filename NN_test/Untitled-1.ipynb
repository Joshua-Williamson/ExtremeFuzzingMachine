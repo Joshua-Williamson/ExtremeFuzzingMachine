{
 "cells": [
  {
   "cell_type": "code",
   "execution_count": 1,
   "metadata": {},
   "outputs": [],
   "source": [
    "import numpy as np\n",
    "import string as str\n",
    "import os\n",
    "\n",
    "with open('gradient_testing_info_neuzz') as g:\n",
    "    with open('gradient_testing_info_ELM') as f:\n",
    "        i=0\n",
    "        for line_elm,line_neu in zip(f,g):\n",
    "            if i==0:\n",
    "                MAX_FILE_SIZE,MAX_BITMAP_SIZE = line_elm.split(\"|\")\n",
    "                MAX_FILE_SIZE,MAX_BITMAP_SIZE = int(MAX_FILE_SIZE), int(MAX_BITMAP_SIZE) \n",
    "                i+=1\n",
    "                continue \n",
    "            ind_neu,grad_neu,file_neu,pred_neu,out_neu=line_neu.split(\"|\")\n",
    "            ind_ELM,grad_ELM,file_ELM,pred_ELM,out_ELM=line_elm.split(\"|\")\n",
    "\n",
    "            ind_ELM = np.array([int(x) for x in ind_ELM.split(',')])\n",
    "            ind_neu = np.array([int(x) for x in ind_neu.split(',')])\n",
    "\n",
    "            i+=1"
   ]
  }
 ],
 "metadata": {
  "interpreter": {
   "hash": "7802b31756074b306cb4b21ff11dab092c1979c0d0ebf96e8fc4b2fed0293ce5"
  },
  "kernelspec": {
   "display_name": "Python 3.9.10 ('neuzz_torch')",
   "language": "python",
   "name": "python3"
  },
  "language_info": {
   "codemirror_mode": {
    "name": "ipython",
    "version": 3
   },
   "file_extension": ".py",
   "mimetype": "text/x-python",
   "name": "python",
   "nbconvert_exporter": "python",
   "pygments_lexer": "ipython3",
   "version": "3.9.10"
  },
  "orig_nbformat": 4
 },
 "nbformat": 4,
 "nbformat_minor": 2
}
