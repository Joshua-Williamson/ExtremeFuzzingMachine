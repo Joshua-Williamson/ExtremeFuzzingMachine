{
 "cells": [
  {
   "cell_type": "code",
   "execution_count": 4,
   "metadata": {},
   "outputs": [],
   "source": [
    "import numpy as np\n",
    "import string as str\n",
    "import os\n",
    "\n",
    "\n",
    "with open('gradient_testing_info_ELM') as f:\n",
    "    i=0\n",
    "    for line in f:\n",
    "        if i==0:\n",
    "           continue \n",
    "        ind_ELM,grad_ELM,file_ELM,out_ELM=line.split(\"|\")\n",
    "        i+=1\n",
    "        break"
   ]
  },
  {
   "cell_type": "code",
   "execution_count": 5,
   "metadata": {},
   "outputs": [],
   "source": [
    "with open('gradient_testing_info_neuzz') as f:\n",
    "    i=0\n",
    "    for line in f:\n",
    "        if i==0:\n",
    "           continue \n",
    "        ind_neu,grad_neu,file_neu,out_neu=line.split(\"|\")\n",
    "        break\n"
   ]
  },
  {
   "cell_type": "code",
   "execution_count": 3,
   "metadata": {},
   "outputs": [
    {
     "name": "stdout",
     "output_type": "stream",
     "text": [
      "found it\n"
     ]
    }
   ],
   "source": [
    "with open() as f:\n",
    "    for line in f:\n",
    "        ind_neu2,grad_neu2,file_neu2=line.split(\"|\")\n",
    "        if file_neu2 == file_ELM:\n",
    "            print('found it')\n",
    "            break"
   ]
  },
  {
   "cell_type": "code",
   "execution_count": 5,
   "metadata": {},
   "outputs": [
    {
     "data": {
      "text/plain": [
       "'./seeds/id:000523,src:000000,op:int16,pos:3,val:-1\\n'"
      ]
     },
     "execution_count": 5,
     "metadata": {},
     "output_type": "execute_result"
    }
   ],
   "source": [
    "file_neu"
   ]
  },
  {
   "cell_type": "code",
   "execution_count": 7,
   "metadata": {},
   "outputs": [
    {
     "ename": "TypeError",
     "evalue": "'str' object is not callable",
     "output_type": "error",
     "traceback": [
      "\u001b[0;31m---------------------------------------------------------------------------\u001b[0m",
      "\u001b[0;31mTypeError\u001b[0m                                 Traceback (most recent call last)",
      "\u001b[1;32m/home/ubuntu/NCC_FUZZ/gradinent_out_analysis/Untitled-1.ipynb Cell 5'\u001b[0m in \u001b[0;36m<cell line: 1>\u001b[0;34m()\u001b[0m\n\u001b[0;32m----> <a href='vscode-notebook-cell://ssh-remote%2Bec2-52-56-76-251.eu-west-2.compute.amazonaws.com/home/ubuntu/NCC_FUZZ/gradinent_out_analysis/Untitled-1.ipynb#ch0000004vscode-remote?line=0'>1</a>\u001b[0m os\u001b[39m.\u001b[39;49mcurdir()\n",
      "\u001b[0;31mTypeError\u001b[0m: 'str' object is not callable"
     ]
    }
   ],
   "source": [
    "os.curdir()"
   ]
  },
  {
   "cell_type": "code",
   "execution_count": null,
   "metadata": {},
   "outputs": [],
   "source": []
  }
 ],
 "metadata": {
  "interpreter": {
   "hash": "7802b31756074b306cb4b21ff11dab092c1979c0d0ebf96e8fc4b2fed0293ce5"
  },
  "kernelspec": {
   "display_name": "Python 3.9.10 ('neuzz_torch')",
   "language": "python",
   "name": "python3"
  },
  "language_info": {
   "codemirror_mode": {
    "name": "ipython",
    "version": 3
   },
   "file_extension": ".py",
   "mimetype": "text/x-python",
   "name": "python",
   "nbconvert_exporter": "python",
   "pygments_lexer": "ipython3",
   "version": "3.9.10"
  },
  "orig_nbformat": 4
 },
 "nbformat": 4,
 "nbformat_minor": 2
}
